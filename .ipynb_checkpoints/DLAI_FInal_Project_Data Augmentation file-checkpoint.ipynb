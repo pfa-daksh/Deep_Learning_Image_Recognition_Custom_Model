{
 "cells": [
  {
   "cell_type": "code",
   "execution_count": 1,
   "id": "90deb339",
   "metadata": {},
   "outputs": [],
   "source": [
    "import os\n",
    "import warnings\n",
    "warnings.filterwarnings('ignore')\n",
    "import random\n",
    "from keras.models import Model\n",
    "from keras import optimizers\n",
    "from keras.applications.vgg16 import VGG16\n",
    "from keras.applications.vgg16 import preprocess_input\n",
    "from keras.applications.vgg19 import VGG19\n",
    "from keras.applications.vgg19 import preprocess_input\n",
    "from keras.applications.xception import Xception\n",
    "from keras.applications.xception import preprocess_input\n",
    "from tensorflow.keras.applications.resnet50 import ResNet50\n",
    "from tensorflow.keras.applications.resnet50 import preprocess_input\n",
    "from glob import glob\n",
    "import matplotlib.pyplot as plt\n",
    "import seaborn as sns\n",
    "from matplotlib.image import imread\n",
    "import pathlib\n",
    "import numpy as np\n",
    "from sklearn.metrics import accuracy_score,classification_report,confusion_matrix\n",
    "import os\n",
    "import cv2\n",
    "import random\n",
    "from shutil import copyfile\n",
    "from keras.preprocessing.image import ImageDataGenerator\n",
    "from keras.preprocessing.image import img_to_array\n",
    "from keras.preprocessing.image import array_to_img\n",
    "from keras.preprocessing.image import load_img\n",
    "\n",
    "#from tensorflow.keras.utils import img_to_array\n",
    "#from tensorflow.keras.utils import array_to_img\n",
    "#from tensorflow.keras.utils import load_img"
   ]
  },
  {
   "cell_type": "code",
   "execution_count": 2,
   "id": "23d220e2",
   "metadata": {},
   "outputs": [],
   "source": [
    "original_dataset_dir = 'C:/Users/Daksh Kapoor/Desktop/DLAI_FInal_Project/Multi-class Weather Dataset-group1/Multi-class Weather Dataset-group1'"
   ]
  },
  {
   "cell_type": "code",
   "execution_count": 3,
   "id": "b3a42813",
   "metadata": {},
   "outputs": [],
   "source": [
    "train_datagen = ImageDataGenerator(\n",
    "        rotation_range=30,\n",
    "        width_shift_range=0.2,\n",
    "        height_shift_range=0.2,\n",
    "        rescale=1./255,\n",
    "        shear_range=0.2,\n",
    "        zoom_range=0.2,\n",
    "        horizontal_flip=True,\n",
    "        fill_mode='nearest')"
   ]
  },
  {
   "cell_type": "code",
   "execution_count": 5,
   "id": "fccf2054",
   "metadata": {},
   "outputs": [],
   "source": [
    "CLOUDY_SOURCE_DIR = 'C:/Users/Daksh Kapoor/Desktop/DLAI_FInal_Project/Multi-class Weather Dataset-group1/Multi-class Weather Dataset-group1/Cloudy'\n",
    "TRAINING_CLOUDY_DIR = 'C:/Users/Daksh Kapoor/Desktop/DLAI_FInal_Project/Multi-class Weather Dataset-group1/Weather_image_data/train/cloudy'\n",
    "TEST_CLOUDY_DIR = 'C:/Users/Daksh Kapoor/Desktop/DLAI_FInal_Project/Multi-class Weather Dataset-group1/Weather_image_data/test/cloudy'\n",
    "\n",
    "RAINY_SOURCE_DIR = 'C:/Users/Daksh Kapoor/Desktop/DLAI_FInal_Project/Multi-class Weather Dataset-group1/Multi-class Weather Dataset-group1/Rain'\n",
    "TRAINING_RAINY_DIR = 'C:/Users/Daksh Kapoor/Desktop/DLAI_FInal_Project/Multi-class Weather Dataset-group1/Weather_image_data/train/rainy'\n",
    "TEST_RAINY_DIR = 'C:/Users/Daksh Kapoor/Desktop/DLAI_FInal_Project/Multi-class Weather Dataset-group1/Weather_image_data/test/rainy'\n",
    "\n",
    "SHINE_SOURCE_DIR = 'C:/Users/Daksh Kapoor/Desktop/DLAI_FInal_Project/Multi-class Weather Dataset-group1/Multi-class Weather Dataset-group1/Shine'\n",
    "TRAINING_SHINE_DIR = 'C:/Users/Daksh Kapoor/Desktop/DLAI_FInal_Project/Multi-class Weather Dataset-group1/Weather_image_data/train/shine'\n",
    "TEST_SHINE_DIR = 'C:/Users/Daksh Kapoor/Desktop/DLAI_FInal_Project/Multi-class Weather Dataset-group1/Weather_image_data/test/shine'\n",
    "\n",
    "SUNRISE_SOURCE_DIR = 'C:/Users/Daksh Kapoor/Desktop/DLAI_FInal_Project/Multi-class Weather Dataset-group1/Multi-class Weather Dataset-group1/Sunrise'\n",
    "TRAINING_SUNRISE_DIR = 'C:/Users/Daksh Kapoor/Desktop/DLAI_FInal_Project/Multi-class Weather Dataset-group1/Weather_image_data/train/sunrise'\n",
    "TEST_SUNRISE_DIR = 'C:/Users/Daksh Kapoor/Desktop/DLAI_FInal_Project/Multi-class Weather Dataset-group1/Weather_image_data/test/sunrise'"
   ]
  },
  {
   "cell_type": "markdown",
   "id": "8de2992d",
   "metadata": {},
   "source": [
    "# Augmenting cloud images"
   ]
  },
  {
   "cell_type": "code",
   "execution_count": 6,
   "id": "ed895064",
   "metadata": {},
   "outputs": [],
   "source": [
    "cl_img109 = load_img('C:/Users/Daksh Kapoor/Desktop/DLAI_FInal_Project/Multi-class Weather Dataset-group1/Multi-class Weather Dataset-group1/Cloudy/cloudy109.jpg')\n",
    "cl_img2 = load_img('C:/Users/Daksh Kapoor/Desktop/DLAI_FInal_Project/Multi-class Weather Dataset-group1/Multi-class Weather Dataset-group1/Cloudy/cloudy2.jpg')\n",
    "cl_img3 = load_img('C:/Users/Daksh Kapoor/Desktop/DLAI_FInal_Project/Multi-class Weather Dataset-group1/Multi-class Weather Dataset-group1/Cloudy/cloudy3.jpg')\n",
    "cl_img4 = load_img('C:/Users/Daksh Kapoor/Desktop/DLAI_FInal_Project/Multi-class Weather Dataset-group1/Multi-class Weather Dataset-group1/Cloudy/cloudy4.jpg')\n",
    "cl_img5 = load_img('C:/Users/Daksh Kapoor/Desktop/DLAI_FInal_Project/Multi-class Weather Dataset-group1/Multi-class Weather Dataset-group1/Cloudy/cloudy5.jpg')\n",
    "cl_img6 = load_img('C:/Users/Daksh Kapoor/Desktop/DLAI_FInal_Project/Multi-class Weather Dataset-group1/Multi-class Weather Dataset-group1/Cloudy/cloudy6.jpg')\n",
    "cl_img7 = load_img('C:/Users/Daksh Kapoor/Desktop/DLAI_FInal_Project/Multi-class Weather Dataset-group1/Multi-class Weather Dataset-group1/Cloudy/cloudy7.jpg')\n",
    "cl_img8 = load_img('C:/Users/Daksh Kapoor/Desktop/DLAI_FInal_Project/Multi-class Weather Dataset-group1/Multi-class Weather Dataset-group1/Cloudy/cloudy8.jpg')\n",
    "cl_img9 = load_img('C:/Users/Daksh Kapoor/Desktop/DLAI_FInal_Project/Multi-class Weather Dataset-group1/Multi-class Weather Dataset-group1/Cloudy/cloudy9.jpg')\n",
    "cl_img18 = load_img('C:/Users/Daksh Kapoor/Desktop/DLAI_FInal_Project/Multi-class Weather Dataset-group1/Multi-class Weather Dataset-group1/Cloudy/cloudy18.jpg')\n",
    "cl_img11 = load_img('C:/Users/Daksh Kapoor/Desktop/DLAI_FInal_Project/Multi-class Weather Dataset-group1/Multi-class Weather Dataset-group1/Cloudy/cloudy11.jpg')    "
   ]
  },
  {
   "cell_type": "code",
   "execution_count": 8,
   "id": "d1949433",
   "metadata": {},
   "outputs": [],
   "source": [
    "cl109 = img_to_array(cl_img109)  \n",
    "cl109 = cl109.reshape((1,) + cl109.shape)  \n",
    "\n",
    "# the .flow() command below generates batches of randomly transformed images\n",
    "# and saves the results to the `preview/` directory\n",
    "i = 0\n",
    "for batch in train_datagen.flow(cl109, batch_size=1,\n",
    "                          save_to_dir = CLOUDY_SOURCE_DIR, save_prefix = 'cloudy', save_format = 'jpeg'):\n",
    "    i += 1\n",
    "    if i > 100:\n",
    "        break  # otherwise the generator would loop indefinitely"
   ]
  },
  {
   "cell_type": "code",
   "execution_count": 10,
   "id": "fbed3072",
   "metadata": {},
   "outputs": [],
   "source": [
    "cl11 = img_to_array(cl_img11)  \n",
    "cl11 = cl11.reshape((1,) + cl11.shape)  \n",
    "\n",
    "# the .flow() command below generates batches of randomly transformed images\n",
    "# and saves the results to the `preview/` directory\n",
    "i = 0\n",
    "for batch in train_datagen.flow(cl11, batch_size=1,\n",
    "                          save_to_dir = CLOUDY_SOURCE_DIR, save_prefix = 'cloudy', save_format = 'jpeg'):\n",
    "    i += 1\n",
    "    if i > 100:\n",
    "        break  # otherwise the generator would loop indefinitely"
   ]
  },
  {
   "cell_type": "code",
   "execution_count": 11,
   "id": "931c007d",
   "metadata": {},
   "outputs": [],
   "source": [
    "cl3 = img_to_array(cl_img3)  \n",
    "cl3 = cl3.reshape((1,) + cl3.shape)  \n",
    "\n",
    "# the .flow() command below generates batches of randomly transformed images\n",
    "# and saves the results to the `preview/` directory\n",
    "i = 0\n",
    "for batch in train_datagen.flow(cl3, batch_size=1,\n",
    "                          save_to_dir = CLOUDY_SOURCE_DIR, save_prefix = 'cloudy', save_format = 'jpeg'):\n",
    "    i += 1\n",
    "    if i > 100:\n",
    "        break  # otherwise the generator would loop indefinitely"
   ]
  },
  {
   "cell_type": "code",
   "execution_count": 13,
   "id": "7baa7cf9",
   "metadata": {},
   "outputs": [],
   "source": [
    "cl4 = img_to_array(cl_img4)  \n",
    "cl4 = cl4.reshape((1,) + cl4.shape)  \n",
    "\n",
    "# the .flow() command below generates batches of randomly transformed images\n",
    "# and saves the results to the `preview/` directory\n",
    "i = 0\n",
    "for batch in train_datagen.flow(cl4, batch_size=1,\n",
    "                          save_to_dir = CLOUDY_SOURCE_DIR, save_prefix = 'cloudy', save_format = 'jpeg'):\n",
    "    i += 1\n",
    "    if i > 100:\n",
    "        break  # otherwise the generator would loop indefinitely"
   ]
  },
  {
   "cell_type": "code",
   "execution_count": 14,
   "id": "746a28c3",
   "metadata": {},
   "outputs": [],
   "source": [
    "cl5 = img_to_array(cl_img5)  \n",
    "cl5 = cl5.reshape((1,) + cl5.shape)  \n",
    "\n",
    "# the .flow() command below generates batches of randomly transformed images\n",
    "# and saves the results to the `preview/` directory\n",
    "i = 0\n",
    "for batch in train_datagen.flow(cl5, batch_size=1,\n",
    "                          save_to_dir = CLOUDY_SOURCE_DIR, save_prefix = 'cloudy', save_format = 'jpeg'):\n",
    "    i += 1\n",
    "    if i > 100:\n",
    "        break  # otherwise the generator would loop indefinitely"
   ]
  },
  {
   "cell_type": "code",
   "execution_count": 15,
   "id": "62288d60",
   "metadata": {},
   "outputs": [],
   "source": [
    "cl6 = img_to_array(cl_img6)  \n",
    "cl6 = cl6.reshape((1,) + cl6.shape)  \n",
    "\n",
    "# the .flow() command below generates batches of randomly transformed images\n",
    "# and saves the results to the `preview/` directory\n",
    "i = 0\n",
    "for batch in train_datagen.flow(cl6, batch_size=1,\n",
    "                          save_to_dir = CLOUDY_SOURCE_DIR, save_prefix = 'cloudy', save_format = 'jpeg'):\n",
    "    i += 1\n",
    "    if i > 100:\n",
    "        break  # otherwise the generator would loop indefinitely"
   ]
  },
  {
   "cell_type": "code",
   "execution_count": 16,
   "id": "716687da",
   "metadata": {},
   "outputs": [],
   "source": [
    "cl7 = img_to_array(cl_img7)  \n",
    "cl7 = cl7.reshape((1,) + cl7.shape)  \n",
    "\n",
    "# the .flow() command below generates batches of randomly transformed images\n",
    "# and saves the results to the `preview/` directory\n",
    "i = 0\n",
    "for batch in train_datagen.flow(cl7, batch_size=1,\n",
    "                          save_to_dir = CLOUDY_SOURCE_DIR, save_prefix = 'cloudy', save_format = 'jpeg'):\n",
    "    i += 1\n",
    "    if i > 100:\n",
    "        break  # otherwise the generator would loop indefinitely"
   ]
  },
  {
   "cell_type": "code",
   "execution_count": 17,
   "id": "33a39faf",
   "metadata": {},
   "outputs": [],
   "source": [
    "cl8 = img_to_array(cl_img8)  \n",
    "cl8 = cl8.reshape((1,) + cl8.shape)  \n",
    "\n",
    "# the .flow() command below generates batches of randomly transformed images\n",
    "# and saves the results to the `preview/` directory\n",
    "i = 0\n",
    "for batch in train_datagen.flow(cl8, batch_size=1,\n",
    "                          save_to_dir = CLOUDY_SOURCE_DIR, save_prefix = 'cloudy', save_format = 'jpeg'):\n",
    "    i += 1\n",
    "    if i > 100:\n",
    "        break  # otherwise the generator would loop indefinitely"
   ]
  },
  {
   "cell_type": "code",
   "execution_count": 18,
   "id": "f8f3b188",
   "metadata": {},
   "outputs": [],
   "source": [
    "cl9 = img_to_array(cl_img9)  \n",
    "cl9 = cl9.reshape((1,) + cl9.shape)  \n",
    "\n",
    "# the .flow() command below generates batches of randomly transformed images\n",
    "# and saves the results to the `preview/` directory\n",
    "i = 0\n",
    "for batch in train_datagen.flow(cl9, batch_size=1,\n",
    "                          save_to_dir = CLOUDY_SOURCE_DIR, save_prefix = 'cloudy', save_format = 'jpeg'):\n",
    "    i += 1\n",
    "    if i > 100:\n",
    "        break  # otherwise the generator would loop indefinitely"
   ]
  },
  {
   "cell_type": "code",
   "execution_count": 19,
   "id": "c4e235e9",
   "metadata": {},
   "outputs": [
    {
     "ename": "ValueError",
     "evalue": "cannot reshape array of size 1769472 into shape (1,480,852,3)",
     "output_type": "error",
     "traceback": [
      "\u001b[1;31m---------------------------------------------------------------------------\u001b[0m",
      "\u001b[1;31mValueError\u001b[0m                                Traceback (most recent call last)",
      "\u001b[1;32m<ipython-input-19-c26ae6e457bb>\u001b[0m in \u001b[0;36m<module>\u001b[1;34m\u001b[0m\n\u001b[0;32m      1\u001b[0m \u001b[0mcl18\u001b[0m \u001b[1;33m=\u001b[0m \u001b[0mimg_to_array\u001b[0m\u001b[1;33m(\u001b[0m\u001b[0mcl_img18\u001b[0m\u001b[1;33m)\u001b[0m\u001b[1;33m\u001b[0m\u001b[1;33m\u001b[0m\u001b[0m\n\u001b[1;32m----> 2\u001b[1;33m \u001b[0mcl18\u001b[0m \u001b[1;33m=\u001b[0m \u001b[0mcl8\u001b[0m\u001b[1;33m.\u001b[0m\u001b[0mreshape\u001b[0m\u001b[1;33m(\u001b[0m\u001b[1;33m(\u001b[0m\u001b[1;36m1\u001b[0m\u001b[1;33m,\u001b[0m\u001b[1;33m)\u001b[0m \u001b[1;33m+\u001b[0m \u001b[0mcl18\u001b[0m\u001b[1;33m.\u001b[0m\u001b[0mshape\u001b[0m\u001b[1;33m)\u001b[0m\u001b[1;33m\u001b[0m\u001b[1;33m\u001b[0m\u001b[0m\n\u001b[0m\u001b[0;32m      3\u001b[0m \u001b[1;33m\u001b[0m\u001b[0m\n\u001b[0;32m      4\u001b[0m \u001b[1;31m# the .flow() command below generates batches of randomly transformed images\u001b[0m\u001b[1;33m\u001b[0m\u001b[1;33m\u001b[0m\u001b[1;33m\u001b[0m\u001b[0m\n\u001b[0;32m      5\u001b[0m \u001b[1;31m# and saves the results to the `preview/` directory\u001b[0m\u001b[1;33m\u001b[0m\u001b[1;33m\u001b[0m\u001b[1;33m\u001b[0m\u001b[0m\n",
      "\u001b[1;31mValueError\u001b[0m: cannot reshape array of size 1769472 into shape (1,480,852,3)"
     ]
    }
   ],
   "source": [
    "cl18 = img_to_array(cl_img18)  \n",
    "cl18 = cl8.reshape((1,) + cl18.shape)  \n",
    "\n",
    "# the .flow() command below generates batches of randomly transformed images\n",
    "# and saves the results to the `preview/` directory\n",
    "i = 0\n",
    "for batch in train_datagen.flow(cl18, batch_size=1,\n",
    "                          save_to_dir = CLOUDY_SOURCE_DIR, save_prefix = 'cloudy', save_format = 'jpeg'):\n",
    "    i += 1\n",
    "    if i > 100:\n",
    "        break  # otherwise the generator would loop indefinitely"
   ]
  },
  {
   "cell_type": "markdown",
   "id": "d795c92f",
   "metadata": {},
   "source": [
    "# Augmenting Rain data"
   ]
  },
  {
   "cell_type": "code",
   "execution_count": 20,
   "id": "a372b753",
   "metadata": {},
   "outputs": [],
   "source": [
    "rn_img109 = load_img('C:/Users/Daksh Kapoor/Desktop/DLAI_FInal_Project/Multi-class Weather Dataset-group1/Multi-class Weather Dataset-group1/Rain/rain109.jpg')\n",
    "rn_img2 = load_img('C:/Users/Daksh Kapoor/Desktop/DLAI_FInal_Project/Multi-class Weather Dataset-group1/Multi-class Weather Dataset-group1/Rain/rain2.jpg')\n",
    "rn_img3 = load_img('C:/Users/Daksh Kapoor/Desktop/DLAI_FInal_Project/Multi-class Weather Dataset-group1/Multi-class Weather Dataset-group1/Rain/rain3.jpg')\n",
    "rn_img4 = load_img('C:/Users/Daksh Kapoor/Desktop/DLAI_FInal_Project/Multi-class Weather Dataset-group1/Multi-class Weather Dataset-group1/Rain/rain4.jpg')\n",
    "rn_img5 = load_img('C:/Users/Daksh Kapoor/Desktop/DLAI_FInal_Project/Multi-class Weather Dataset-group1/Multi-class Weather Dataset-group1/Rain/rain5.jpg')\n",
    "rn_img6 = load_img('C:/Users/Daksh Kapoor/Desktop/DLAI_FInal_Project/Multi-class Weather Dataset-group1/Multi-class Weather Dataset-group1/Rain/rain6.jpg')\n",
    "rn_img7 = load_img('C:/Users/Daksh Kapoor/Desktop/DLAI_FInal_Project/Multi-class Weather Dataset-group1/Multi-class Weather Dataset-group1/Rain/rain7.jpg')\n",
    "rn_img8 = load_img('C:/Users/Daksh Kapoor/Desktop/DLAI_FInal_Project/Multi-class Weather Dataset-group1/Multi-class Weather Dataset-group1/Rain/rain8.jpg')\n",
    "rn_img9 = load_img('C:/Users/Daksh Kapoor/Desktop/DLAI_FInal_Project/Multi-class Weather Dataset-group1/Multi-class Weather Dataset-group1/Rain/rain9.jpg')\n",
    "rn_img18 = load_img('C:/Users/Daksh Kapoor/Desktop/DLAI_FInal_Project/Multi-class Weather Dataset-group1/Multi-class Weather Dataset-group1/Rain/rain10.jpg')\n",
    "rn_img11 = load_img('C:/Users/Daksh Kapoor/Desktop/DLAI_FInal_Project/Multi-class Weather Dataset-group1/Multi-class Weather Dataset-group1/Rain/rain11.jpg')    "
   ]
  },
  {
   "cell_type": "code",
   "execution_count": 24,
   "id": "dad63ebe",
   "metadata": {},
   "outputs": [
    {
     "ename": "SyntaxError",
     "evalue": "invalid syntax (<ipython-input-24-12f5b2bdec0b>, line 7)",
     "output_type": "error",
     "traceback": [
      "\u001b[1;36m  File \u001b[1;32m\"<ipython-input-24-12f5b2bdec0b>\"\u001b[1;36m, line \u001b[1;32m7\u001b[0m\n\u001b[1;33m    for batch in train_datagen.flow(rn3 batch_size=1,\u001b[0m\n\u001b[1;37m                                        ^\u001b[0m\n\u001b[1;31mSyntaxError\u001b[0m\u001b[1;31m:\u001b[0m invalid syntax\n"
     ]
    }
   ],
   "source": [
    "rn11= img_to_array(rn_img11)  \n",
    "rn11 = rn11.reshape((1,) + rn11.shape)  \n",
    "\n",
    "# the .flow() command below generates batches of randomly transformed images\n",
    "# and saves the results to the `preview/` directory\n",
    "i = 0\n",
    "for batch in train_datagen.flow(rn11, batch_size=1,\n",
    "                          save_to_dir = RAINY_SOURCE_DIR, save_prefix = 'rain', save_format = 'jpeg'):\n",
    "    i += 1\n",
    "    if i > 100:\n",
    "        break  # otherwise the generator would loop indefinitely"
   ]
  },
  {
   "cell_type": "code",
   "execution_count": 26,
   "id": "f131d781",
   "metadata": {},
   "outputs": [],
   "source": [
    "rn4= img_to_array(rn_img4)  \n",
    "rn4 = rn4.reshape((1,) + rn4.shape)  \n",
    "\n",
    "# the .flow() command below generates batches of randomly transformed images\n",
    "# and saves the results to the `preview/` directory\n",
    "i = 0\n",
    "for batch in train_datagen.flow(rn4, batch_size=1,\n",
    "                          save_to_dir = RAINY_SOURCE_DIR, save_prefix = 'rain', save_format = 'jpeg'):\n",
    "    i += 1\n",
    "    if i > 100:\n",
    "        break  # otherwise the generator would loop indefinitely"
   ]
  },
  {
   "cell_type": "code",
   "execution_count": 27,
   "id": "2be93233",
   "metadata": {},
   "outputs": [],
   "source": [
    "rn3= img_to_array(rn_img3)  \n",
    "rn3 = rn3.reshape((1,) + rn3.shape)  \n",
    "\n",
    "# the .flow() command below generates batches of randomly transformed images\n",
    "# and saves the results to the `preview/` directory\n",
    "i = 0\n",
    "for batch in train_datagen.flow(rn3, batch_size=1,\n",
    "                          save_to_dir = RAINY_SOURCE_DIR, save_prefix = 'rain', save_format = 'jpeg'):\n",
    "    i += 1\n",
    "    if i > 100:\n",
    "        break  # otherwise the generator would loop indefinitely"
   ]
  },
  {
   "cell_type": "code",
   "execution_count": 28,
   "id": "e1782ff2",
   "metadata": {},
   "outputs": [],
   "source": [
    "rn5= img_to_array(rn_img5)  \n",
    "rn5 = rn5.reshape((1,) + rn5.shape)  \n",
    "\n",
    "# the .flow() command below generates batches of randomly transformed images\n",
    "# and saves the results to the `preview/` directory\n",
    "i = 0\n",
    "for batch in train_datagen.flow(rn5, batch_size=1,\n",
    "                          save_to_dir = RAINY_SOURCE_DIR, save_prefix = 'rain', save_format = 'jpeg'):\n",
    "    i += 1\n",
    "    if i > 100:\n",
    "        break  # otherwise the generator would loop indefinitely"
   ]
  },
  {
   "cell_type": "code",
   "execution_count": 30,
   "id": "694c0d74",
   "metadata": {},
   "outputs": [],
   "source": [
    "rn6= img_to_array(rn_img6)  \n",
    "rn6 = rn6.reshape((1,) + rn6.shape)  \n",
    "\n",
    "# the .flow() command below generates batches of randomly transformed images\n",
    "# and saves the results to the `preview/` directory\n",
    "i = 0\n",
    "for batch in train_datagen.flow(rn6, batch_size=1,\n",
    "                          save_to_dir = RAINY_SOURCE_DIR, save_prefix = 'rain', save_format = 'jpeg'):\n",
    "    i += 1\n",
    "    if i > 100:\n",
    "        break  # otherwise the generator would loop indefinitely"
   ]
  },
  {
   "cell_type": "code",
   "execution_count": 31,
   "id": "ae00e3c7",
   "metadata": {},
   "outputs": [],
   "source": [
    "rn7= img_to_array(rn_img7)  \n",
    "rn7 = rn7.reshape((1,) + rn7.shape)  \n",
    "\n",
    "# the .flow() command below generates batches of randomly transformed images\n",
    "# and saves the results to the `preview/` directory\n",
    "i = 0\n",
    "for batch in train_datagen.flow(rn7, batch_size=1,\n",
    "                          save_to_dir = RAINY_SOURCE_DIR, save_prefix = 'rain', save_format = 'jpeg'):\n",
    "    i += 1\n",
    "    if i > 100:\n",
    "        break  # otherwise the generator would loop indefinitely"
   ]
  },
  {
   "cell_type": "code",
   "execution_count": 33,
   "id": "b9eb7ae5",
   "metadata": {},
   "outputs": [],
   "source": [
    "rn8= img_to_array(rn_img8)  \n",
    "rn8 = rn8.reshape((1,) + rn8.shape)  \n",
    "\n",
    "# the .flow() command below generates batches of randomly transformed images\n",
    "# and saves the results to the `preview/` directory\n",
    "i = 0\n",
    "for batch in train_datagen.flow(rn8, batch_size=1,\n",
    "                          save_to_dir = RAINY_SOURCE_DIR, save_prefix = 'rain', save_format = 'jpeg'):\n",
    "    i += 1\n",
    "    if i > 100:\n",
    "        break  # otherwise the generator would loop indefinitely"
   ]
  },
  {
   "cell_type": "code",
   "execution_count": 34,
   "id": "7c76fb7e",
   "metadata": {},
   "outputs": [],
   "source": [
    "rn9= img_to_array(rn_img9)  \n",
    "rn9 = rn9.reshape((1,) + rn9.shape)  \n",
    "\n",
    "# the .flow() command below generates batches of randomly transformed images\n",
    "# and saves the results to the `preview/` directory\n",
    "i = 0\n",
    "for batch in train_datagen.flow(rn9, batch_size=1,\n",
    "                          save_to_dir = RAINY_SOURCE_DIR, save_prefix = 'rain', save_format = 'jpeg'):\n",
    "    i += 1\n",
    "    if i > 100:\n",
    "        break  # otherwise the generator would loop indefinitely"
   ]
  },
  {
   "cell_type": "code",
   "execution_count": 37,
   "id": "1b89e05c",
   "metadata": {},
   "outputs": [],
   "source": [
    "rn18= img_to_array(rn_img18)  \n",
    "rn18 = rn18.reshape((1,) + rn18.shape)  \n",
    "\n",
    "# the .flow() command below generates batches of randomly transformed images\n",
    "# and saves the results to the `preview/` directory\n",
    "i = 0\n",
    "for batch in train_datagen.flow(rn18, batch_size=1,\n",
    "                          save_to_dir = RAINY_SOURCE_DIR, save_prefix = 'rain', save_format = 'jpeg'):\n",
    "    i += 1\n",
    "    if i > 100:\n",
    "        break  # otherwise the generator would loop indefinitely"
   ]
  },
  {
   "cell_type": "code",
   "execution_count": 38,
   "id": "798f8cd2",
   "metadata": {},
   "outputs": [],
   "source": [
    "sh_img1 = load_img('C:/Users/Daksh Kapoor/Desktop/DLAI_FInal_Project/Multi-class Weather Dataset-group1/Multi-class Weather Dataset-group1/Shine/shine1.jpg')\n",
    "sh_img2 = load_img('C:/Users/Daksh Kapoor/Desktop/DLAI_FInal_Project/Multi-class Weather Dataset-group1/Multi-class Weather Dataset-group1/Shine/shine2.jpg')\n",
    "sh_img3 = load_img('C:/Users/Daksh Kapoor/Desktop/DLAI_FInal_Project/Multi-class Weather Dataset-group1/Multi-class Weather Dataset-group1/Shine/shine3.jpg')\n",
    "sh_img4 = load_img('C:/Users/Daksh Kapoor/Desktop/DLAI_FInal_Project/Multi-class Weather Dataset-group1/Multi-class Weather Dataset-group1/Shine/shine4.jpg')\n",
    "sh_img5 = load_img('C:/Users/Daksh Kapoor/Desktop/DLAI_FInal_Project/Multi-class Weather Dataset-group1/Multi-class Weather Dataset-group1/Shine/shine5.jpg')\n",
    "sh_img6 = load_img('C:/Users/Daksh Kapoor/Desktop/DLAI_FInal_Project/Multi-class Weather Dataset-group1/Multi-class Weather Dataset-group1/Shine/shine6.jpg')\n",
    "sh_img7 = load_img('C:/Users/Daksh Kapoor/Desktop/DLAI_FInal_Project/Multi-class Weather Dataset-group1/Multi-class Weather Dataset-group1/Shine/shine7.jpg')\n",
    "sh_img8 = load_img('C:/Users/Daksh Kapoor/Desktop/DLAI_FInal_Project/Multi-class Weather Dataset-group1/Multi-class Weather Dataset-group1/Shine/shine8.jpg')\n",
    "sh_img9 = load_img('C:/Users/Daksh Kapoor/Desktop/DLAI_FInal_Project/Multi-class Weather Dataset-group1/Multi-class Weather Dataset-group1/Shine/shine9.jpg')\n",
    "sh_img10 = load_img('C:/Users/Daksh Kapoor/Desktop/DLAI_FInal_Project/Multi-class Weather Dataset-group1/Multi-class Weather Dataset-group1/Shine/shine10.jpg')\n",
    "sh_img11 = load_img('C:/Users/Daksh Kapoor/Desktop/DLAI_FInal_Project/Multi-class Weather Dataset-group1/Multi-class Weather Dataset-group1/Shine/shine11.jpg')   "
   ]
  },
  {
   "cell_type": "code",
   "execution_count": 39,
   "id": "7586f3c8",
   "metadata": {},
   "outputs": [],
   "source": [
    "sh1= img_to_array(sh_img1)  \n",
    "sh1 = sh1.reshape((1,) + sh1.shape)  \n",
    "\n",
    "# the .flow() command below generates batches of randomly transformed images\n",
    "# and saves the results to the `preview/` directory\n",
    "i = 0\n",
    "for batch in train_datagen.flow(sh1, batch_size=1,\n",
    "                          save_to_dir = SHINE_SOURCE_DIR, save_prefix = 'shine', save_format = 'jpeg'):\n",
    "    i += 1\n",
    "    if i > 100:\n",
    "        break  # otherwise the generator would loop indefinitely"
   ]
  },
  {
   "cell_type": "code",
   "execution_count": 40,
   "id": "2cb3cce1",
   "metadata": {},
   "outputs": [],
   "source": [
    "sh2= img_to_array(sh_img2)  \n",
    "sh2 = sh2.reshape((1,) + sh2.shape)  \n",
    "\n",
    "# the .flow() command below generates batches of randomly transformed images\n",
    "# and saves the results to the `preview/` directory\n",
    "i = 0\n",
    "for batch in train_datagen.flow(sh2, batch_size=1,\n",
    "                          save_to_dir = SHINE_SOURCE_DIR, save_prefix = 'shine', save_format = 'jpeg'):\n",
    "    i += 1\n",
    "    if i > 100:\n",
    "        break  # otherwise the generator would loop indefinitely"
   ]
  },
  {
   "cell_type": "code",
   "execution_count": 41,
   "id": "4212537d",
   "metadata": {},
   "outputs": [],
   "source": [
    "sh3= img_to_array(sh_img3)  \n",
    "sh3 = sh3.reshape((1,) + sh3.shape)  \n",
    "\n",
    "# the .flow() command below generates batches of randomly transformed images\n",
    "# and saves the results to the `preview/` directory\n",
    "i = 0\n",
    "for batch in train_datagen.flow(sh3, batch_size=1,\n",
    "                         save_to_dir = SHINE_SOURCE_DIR, save_prefix = 'shine', save_format = 'jpeg'):\n",
    "    i += 1\n",
    "    if i > 100:\n",
    "        break  # otherwise the generator would loop indefinitely"
   ]
  },
  {
   "cell_type": "code",
   "execution_count": 42,
   "id": "39ad1da5",
   "metadata": {},
   "outputs": [],
   "source": [
    "sh4= img_to_array(sh_img4)  \n",
    "sh4 = sh4.reshape((1,) + sh4.shape)  \n",
    "\n",
    "# the .flow() command below generates batches of randomly transformed images\n",
    "# and saves the results to the `preview/` directory\n",
    "i = 0\n",
    "for batch in train_datagen.flow(sh4, batch_size=1,\n",
    "                          save_to_dir = SHINE_SOURCE_DIR, save_prefix = 'shine', save_format = 'jpeg'):\n",
    "    i += 1\n",
    "    if i > 100:\n",
    "        break  # otherwise the generator would loop indefinitely"
   ]
  },
  {
   "cell_type": "code",
   "execution_count": 44,
   "id": "0d1785b4",
   "metadata": {},
   "outputs": [],
   "source": [
    "sh5= img_to_array(sh_img5)  \n",
    "sh5 = sh5.reshape((1,) + sh5.shape)  \n",
    "\n",
    "# the .flow() command below generates batches of randomly transformed images\n",
    "# and saves the results to the `preview/` directory\n",
    "i = 0\n",
    "for batch in train_datagen.flow(sh5, batch_size=1,\n",
    "                          save_to_dir = SHINE_SOURCE_DIR, save_prefix = 'shine', save_format = 'jpeg'):\n",
    "    i += 1\n",
    "    if i > 100:\n",
    "        break  # otherwise the generator would loop indefinitely"
   ]
  },
  {
   "cell_type": "code",
   "execution_count": 45,
   "id": "24cd551b",
   "metadata": {},
   "outputs": [],
   "source": [
    "sh6 = img_to_array(sh_img6)  \n",
    "sh6 = sh6.reshape((1,) + sh6.shape)  \n",
    "\n",
    "# the .flow() command below generates batches of randomly transformed images\n",
    "# and saves the results to the `preview/` directory\n",
    "i = 0\n",
    "for batch in train_datagen.flow(sh6, batch_size=1,\n",
    "                          save_to_dir = SHINE_SOURCE_DIR, save_prefix = 'shine', save_format = 'jpeg'):\n",
    "    i += 1\n",
    "    if i > 100:\n",
    "        break  # otherwise the generator would loop indefinitely"
   ]
  },
  {
   "cell_type": "code",
   "execution_count": 46,
   "id": "a15985f8",
   "metadata": {},
   "outputs": [],
   "source": [
    "sh7= img_to_array(sh_img7)  \n",
    "sh7 = sh7.reshape((1,) + sh7.shape)  \n",
    "\n",
    "# the .flow() command below generates batches of randomly transformed images\n",
    "# and saves the results to the `preview/` directory\n",
    "i = 0\n",
    "for batch in train_datagen.flow(sh7, batch_size=1,\n",
    "                          save_to_dir = SHINE_SOURCE_DIR, save_prefix = 'shine', save_format = 'jpeg'):\n",
    "    i += 1\n",
    "    if i > 100:\n",
    "        break  # otherwise the generator would loop indefinitely"
   ]
  },
  {
   "cell_type": "code",
   "execution_count": 47,
   "id": "17db9491",
   "metadata": {},
   "outputs": [],
   "source": [
    "sh8= img_to_array(sh_img8)  \n",
    "sh8 = sh8.reshape((1,) + sh8.shape)  \n",
    "\n",
    "# the .flow() command below generates batches of randomly transformed images\n",
    "# and saves the results to the `preview/` directory\n",
    "i = 0\n",
    "for batch in train_datagen.flow(sh8, batch_size=1,\n",
    "                          save_to_dir = SHINE_SOURCE_DIR, save_prefix = 'shine', save_format = 'jpeg'):\n",
    "    i += 1\n",
    "    if i > 100:\n",
    "        break  # otherwise the generator would loop indefinitely"
   ]
  },
  {
   "cell_type": "code",
   "execution_count": 48,
   "id": "7cb6a0d4",
   "metadata": {},
   "outputs": [],
   "source": [
    "sn_img1 = load_img('C:/Users/Daksh Kapoor/Desktop/DLAI_FInal_Project/Multi-class Weather Dataset-group1/Multi-class Weather Dataset-group1/Sunrise/sunrise1.jpg')\n",
    "sn_img2 = load_img('C:/Users/Daksh Kapoor/Desktop/DLAI_FInal_Project/Multi-class Weather Dataset-group1/Multi-class Weather Dataset-group1/Sunrise/sunrise2.jpg')\n",
    "sn_img3 = load_img('C:/Users/Daksh Kapoor/Desktop/DLAI_FInal_Project/Multi-class Weather Dataset-group1/Multi-class Weather Dataset-group1/Sunrise/sunrise3.jpg')\n",
    "sn_img4 = load_img('C:/Users/Daksh Kapoor/Desktop/DLAI_FInal_Project/Multi-class Weather Dataset-group1/Multi-class Weather Dataset-group1/Sunrise/sunrise4.jpg')\n",
    "sn_img5 = load_img('C:/Users/Daksh Kapoor/Desktop/DLAI_FInal_Project/Multi-class Weather Dataset-group1/Multi-class Weather Dataset-group1/Sunrise/sunrise5.jpg')\n",
    "sn_img6 = load_img('C:/Users/Daksh Kapoor/Desktop/DLAI_FInal_Project/Multi-class Weather Dataset-group1/Multi-class Weather Dataset-group1/Sunrise/sunrise6.jpg')\n",
    "sn_img7 = load_img('C:/Users/Daksh Kapoor/Desktop/DLAI_FInal_Project/Multi-class Weather Dataset-group1/Multi-class Weather Dataset-group1/Sunrise/sunrise7.jpg')\n",
    "sn_img8 = load_img('C:/Users/Daksh Kapoor/Desktop/DLAI_FInal_Project/Multi-class Weather Dataset-group1/Multi-class Weather Dataset-group1/Sunrise/sunrise8.jpg')\n",
    "sn_img9 = load_img('C:/Users/Daksh Kapoor/Desktop/DLAI_FInal_Project/Multi-class Weather Dataset-group1/Multi-class Weather Dataset-group1/Sunrise/sunrise9.jpg')\n",
    "sn_img10 = load_img('C:/Users/Daksh Kapoor/Desktop/DLAI_FInal_Project/Multi-class Weather Dataset-group1/Multi-class Weather Dataset-group1/Sunrise/sunrise10.jpg')\n",
    "sn_img11 = load_img('C:/Users/Daksh Kapoor/Desktop/DLAI_FInal_Project/Multi-class Weather Dataset-group1/Multi-class Weather Dataset-group1/Sunrise/sunrise11.jpg') "
   ]
  },
  {
   "cell_type": "code",
   "execution_count": 49,
   "id": "af57ab67",
   "metadata": {},
   "outputs": [],
   "source": [
    "sn1= img_to_array(sn_img1)  \n",
    "sn1 = sn1.reshape((1,) + sn1.shape)  \n",
    "\n",
    "# the .flow() command below generates batches of randomly transformed images\n",
    "# and saves the results to the `preview/` directory\n",
    "i = 0\n",
    "for batch in train_datagen.flow(sn1, batch_size=1,\n",
    "                          save_to_dir = SUNRISE_SOURCE_DIR, save_prefix = 'sunrise', save_format = 'jpeg'):\n",
    "    i += 1\n",
    "    if i > 100:\n",
    "        break  # otherwise the generator would loop indefinitely"
   ]
  },
  {
   "cell_type": "code",
   "execution_count": 50,
   "id": "481f9182",
   "metadata": {},
   "outputs": [],
   "source": [
    "sn2 = img_to_array(sn_img2)  \n",
    "sn2 = sn2.reshape((1,) + sn2.shape)  \n",
    "\n",
    "# the .flow() command below generates batches of randomly transformed images\n",
    "# and saves the results to the `preview/` directory\n",
    "i = 0\n",
    "for batch in train_datagen.flow(sn2, batch_size=1,\n",
    "                          save_to_dir = SUNRISE_SOURCE_DIR, save_prefix = 'sunrise', save_format = 'jpeg'):\n",
    "    i += 1\n",
    "    if i > 100:\n",
    "        break  # otherwise the generator would loop indefinitely"
   ]
  },
  {
   "cell_type": "code",
   "execution_count": 51,
   "id": "2d106db6",
   "metadata": {},
   "outputs": [],
   "source": [
    "sn3= img_to_array(sn_img3)  \n",
    "sn3 = sn3.reshape((1,) + sn3.shape)  \n",
    "\n",
    "# the .flow() command below generates batches of randomly transformed images\n",
    "# and saves the results to the `preview/` directory\n",
    "i = 0\n",
    "for batch in train_datagen.flow(sn3, batch_size=1,\n",
    "                          save_to_dir = SUNRISE_SOURCE_DIR, save_prefix = 'sunrise', save_format = 'jpeg'):\n",
    "    i += 1\n",
    "    if i > 100:\n",
    "        break  # otherwise the generator would loop indefinitely"
   ]
  },
  {
   "cell_type": "code",
   "execution_count": 52,
   "id": "b48716c9",
   "metadata": {},
   "outputs": [],
   "source": [
    "sn4= img_to_array(sn_img4)  \n",
    "sn4 = sn4.reshape((1,) + sn4.shape)  \n",
    "\n",
    "# the .flow() command below generates batches of randomly transformed images\n",
    "# and saves the results to the `preview/` directory\n",
    "i = 0\n",
    "for batch in train_datagen.flow(sn4, batch_size=1,\n",
    "                          save_to_dir = SUNRISE_SOURCE_DIR, save_prefix = 'sunrise', save_format = 'jpeg'):\n",
    "    i += 1\n",
    "    if i > 100:\n",
    "        break  # otherwise the generator would loop indefinitely"
   ]
  },
  {
   "cell_type": "code",
   "execution_count": 53,
   "id": "46cc5a9e",
   "metadata": {},
   "outputs": [],
   "source": [
    "sn5= img_to_array(sn_img5)  \n",
    "sn5 = sn5.reshape((1,) + sn5.shape)  \n",
    "\n",
    "# the .flow() command below generates batches of randomly transformed images\n",
    "# and saves the results to the `preview/` directory\n",
    "i = 0\n",
    "for batch in train_datagen.flow(sn5, batch_size=1,\n",
    "                          save_to_dir = SUNRISE_SOURCE_DIR, save_prefix = 'sunrise', save_format = 'jpeg'):\n",
    "    i += 1\n",
    "    if i > 100:\n",
    "        break  # otherwise the generator would loop indefinitely"
   ]
  },
  {
   "cell_type": "code",
   "execution_count": 54,
   "id": "5d440efe",
   "metadata": {},
   "outputs": [],
   "source": [
    "sn6= img_to_array(sn_img6)  \n",
    "sn6 = sn6.reshape((1,) + sn6.shape)  \n",
    "\n",
    "# the .flow() command below generates batches of randomly transformed images\n",
    "# and saves the results to the `preview/` directory\n",
    "i = 0\n",
    "for batch in train_datagen.flow(sn6, batch_size=1,\n",
    "                          save_to_dir = SUNRISE_SOURCE_DIR, save_prefix = 'sunrise', save_format = 'jpeg'):\n",
    "    i += 1\n",
    "    if i > 100:\n",
    "        break  # otherwise the generator would loop indefinitely"
   ]
  },
  {
   "cell_type": "code",
   "execution_count": 55,
   "id": "7cb65a6f",
   "metadata": {},
   "outputs": [],
   "source": [
    "sn7= img_to_array(sn_img7)  \n",
    "sn7 = sn7.reshape((1,) + sn7.shape)  \n",
    "\n",
    "# the .flow() command below generates batches of randomly transformed images\n",
    "# and saves the results to the `preview/` directory\n",
    "i = 0\n",
    "for batch in train_datagen.flow(sn7, batch_size=1,\n",
    "                          save_to_dir = SUNRISE_SOURCE_DIR, save_prefix = 'sunrise', save_format = 'jpeg'):\n",
    "    i += 1\n",
    "    if i > 100:\n",
    "        break  # otherwise the generator would loop indefinitely"
   ]
  },
  {
   "cell_type": "code",
   "execution_count": 56,
   "id": "d4ac0552",
   "metadata": {},
   "outputs": [],
   "source": [
    "sn8= img_to_array(sn_img8)  \n",
    "sn8 = sn8.reshape((1,) + sn8.shape)  \n",
    "\n",
    "# the .flow() command below generates batches of randomly transformed images\n",
    "# and saves the results to the `preview/` directory\n",
    "i = 0\n",
    "for batch in train_datagen.flow(sn8, batch_size=1,\n",
    "                          save_to_dir = SUNRISE_SOURCE_DIR, save_prefix = 'sunrise', save_format = 'jpeg'):\n",
    "    i += 1\n",
    "    if i > 100:\n",
    "        break  # otherwise the generator would loop indefinitely"
   ]
  },
  {
   "cell_type": "code",
   "execution_count": 57,
   "id": "2a83de55",
   "metadata": {},
   "outputs": [],
   "source": [
    "sn9= img_to_array(sn_img9)  \n",
    "sn9 = sn9.reshape((1,) + sn9.shape)  \n",
    "\n",
    "# the .flow() command below generates batches of randomly transformed images\n",
    "# and saves the results to the `preview/` directory\n",
    "i = 0\n",
    "for batch in train_datagen.flow(sn9, batch_size=1,\n",
    "                          save_to_dir = SUNRISE_SOURCE_DIR, save_prefix = 'sunrise', save_format = 'jpeg'):\n",
    "    i += 1\n",
    "    if i > 100:\n",
    "        break  # otherwise the generator would loop indefinitely"
   ]
  },
  {
   "cell_type": "code",
   "execution_count": 58,
   "id": "785c90d0",
   "metadata": {},
   "outputs": [],
   "source": [
    "sn10= img_to_array(sn_img10)  \n",
    "sn10 = sn10.reshape((1,) + sn10.shape)  \n",
    "\n",
    "# the .flow() command below generates batches of randomly transformed images\n",
    "# and saves the results to the `preview/` directory\n",
    "i = 0\n",
    "for batch in train_datagen.flow(sn10, batch_size=1,\n",
    "                          save_to_dir = SUNRISE_SOURCE_DIR, save_prefix = 'sunrise', save_format = 'jpeg'):\n",
    "    i += 1\n",
    "    if i > 100:\n",
    "        break  # otherwise the generator would loop indefinitely"
   ]
  },
  {
   "cell_type": "code",
   "execution_count": null,
   "id": "44ee2875",
   "metadata": {},
   "outputs": [],
   "source": []
  }
 ],
 "metadata": {
  "kernelspec": {
   "display_name": "Python 3",
   "language": "python",
   "name": "python3"
  },
  "language_info": {
   "codemirror_mode": {
    "name": "ipython",
    "version": 3
   },
   "file_extension": ".py",
   "mimetype": "text/x-python",
   "name": "python",
   "nbconvert_exporter": "python",
   "pygments_lexer": "ipython3",
   "version": "3.8.8"
  }
 },
 "nbformat": 4,
 "nbformat_minor": 5
}
